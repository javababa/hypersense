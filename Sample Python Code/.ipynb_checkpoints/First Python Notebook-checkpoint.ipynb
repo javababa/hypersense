{
 "cells": [
  {
   "cell_type": "markdown",
   "id": "bb834a8a",
   "metadata": {},
   "source": [
    "## First Python Notebook."
   ]
  },
  {
   "cell_type": "code",
   "execution_count": 3,
   "id": "96fb2cb9",
   "metadata": {},
   "outputs": [
    {
     "name": "stdout",
     "output_type": "stream",
     "text": [
      "Namaste Python.\n"
     ]
    }
   ],
   "source": [
    "print(\"Namaste Python.\")"
   ]
  },
  {
   "cell_type": "code",
   "execution_count": 4,
   "id": "44ed0074",
   "metadata": {},
   "outputs": [
    {
     "data": {
      "text/plain": [
       "5"
      ]
     },
     "execution_count": 4,
     "metadata": {},
     "output_type": "execute_result"
    }
   ],
   "source": [
    "2 + 3"
   ]
  },
  {
   "cell_type": "code",
   "execution_count": 3,
   "id": "a413f5c9",
   "metadata": {},
   "outputs": [
    {
     "name": "stdout",
     "output_type": "stream",
     "text": [
      "Sum of 2 and 6 is: 8\n",
      "Difference of 2 and 6 is: 4\n",
      "Product of 2 and 6 is: 12\n",
      "Quotient of 2 and 6 is: 3.0\n",
      "Modulus of 2 and 6 is: 3\n"
     ]
    }
   ],
   "source": [
    "a = 2\n",
    "b = 6\n",
    "add = a + b\n",
    "diff = b - a\n",
    "prod = a * b\n",
    "quot = b / a\n",
    "qmod = b // a\n",
    "\n",
    "print(f\"Sum of {a} and {b} is: {add}\")\n",
    "print(f\"Difference of {a} and {b} is: {diff}\")\n",
    "print(f\"Product of {a} and {b} is: {prod}\")\n",
    "print(f\"Quotient of {a} and {b} is: {quot}\")\n",
    "print(f\"Modulus of {a} and {b} is: {qmod}\")"
   ]
  },
  {
   "cell_type": "code",
   "execution_count": null,
   "id": "4cc34af4",
   "metadata": {},
   "outputs": [],
   "source": []
  }
 ],
 "metadata": {
  "kernelspec": {
   "display_name": "Python 3 (ipykernel)",
   "language": "python",
   "name": "python3"
  },
  "language_info": {
   "codemirror_mode": {
    "name": "ipython",
    "version": 3
   },
   "file_extension": ".py",
   "mimetype": "text/x-python",
   "name": "python",
   "nbconvert_exporter": "python",
   "pygments_lexer": "ipython3",
   "version": "3.11.5"
  }
 },
 "nbformat": 4,
 "nbformat_minor": 5
}
